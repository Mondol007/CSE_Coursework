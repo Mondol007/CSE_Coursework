{
  "nbformat": 4,
  "nbformat_minor": 0,
  "metadata": {
    "colab": {
      "name": "1803062.ipynb",
      "provenance": []
    },
    "kernelspec": {
      "name": "python3",
      "display_name": "Python 3"
    },
    "language_info": {
      "name": "python"
    }
  },
  "cells": [
    {
      "cell_type": "code",
      "metadata": {
        "colab": {
          "base_uri": "https://localhost:8080/"
        },
        "id": "2DvdeDFzbeq2",
        "outputId": "3ca2f5ad-e820-4f19-89a7-7046b1feaa99"
      },
      "source": [
        "!pip3 install pyformlang"
      ],
      "execution_count": null,
      "outputs": [
        {
          "output_type": "stream",
          "text": [
            "Collecting pyformlang\n",
            "\u001b[?25l  Downloading https://files.pythonhosted.org/packages/b2/15/3a49d67b9efbd26aa0b06a8a9c7fed859f3f36b19a59aa075615b23c3703/pyformlang-0.1.23-py3-none-any.whl (109kB)\n",
            "\r\u001b[K     |███                             | 10kB 15.9MB/s eta 0:00:01\r\u001b[K     |██████                          | 20kB 19.9MB/s eta 0:00:01\r\u001b[K     |█████████                       | 30kB 12.8MB/s eta 0:00:01\r\u001b[K     |████████████                    | 40kB 9.6MB/s eta 0:00:01\r\u001b[K     |███████████████                 | 51kB 6.2MB/s eta 0:00:01\r\u001b[K     |██████████████████              | 61kB 6.9MB/s eta 0:00:01\r\u001b[K     |█████████████████████           | 71kB 7.4MB/s eta 0:00:01\r\u001b[K     |████████████████████████        | 81kB 7.7MB/s eta 0:00:01\r\u001b[K     |███████████████████████████     | 92kB 7.9MB/s eta 0:00:01\r\u001b[K     |██████████████████████████████  | 102kB 7.6MB/s eta 0:00:01\r\u001b[K     |████████████████████████████████| 112kB 7.6MB/s \n",
            "\u001b[?25hRequirement already satisfied: numpy in /usr/local/lib/python3.7/dist-packages (from pyformlang) (1.19.5)\n",
            "Requirement already satisfied: networkx in /usr/local/lib/python3.7/dist-packages (from pyformlang) (2.5)\n",
            "Requirement already satisfied: pydot in /usr/local/lib/python3.7/dist-packages (from pyformlang) (1.3.0)\n",
            "Requirement already satisfied: decorator>=4.3.0 in /usr/local/lib/python3.7/dist-packages (from networkx->pyformlang) (4.4.2)\n",
            "Requirement already satisfied: pyparsing>=2.1.4 in /usr/local/lib/python3.7/dist-packages (from pydot->pyformlang) (2.4.7)\n",
            "Installing collected packages: pyformlang\n",
            "Successfully installed pyformlang-0.1.23\n"
          ],
          "name": "stdout"
        }
      ]
    },
    {
      "cell_type": "code",
      "metadata": {
        "colab": {
          "base_uri": "https://localhost:8080/"
        },
        "id": "k65sI3Uch5bQ",
        "outputId": "2e79b4d2-2e1a-49bc-a3f0-19c75b30ee61"
      },
      "source": [
        "from pyformlang.cfg import Production, Variable, Terminal, CFG, Epsilon\n",
        "\n",
        "# Creation of variables\n",
        "var_useless = Variable(\"USELESS\")\n",
        "var_S = Variable(\"S\")\n",
        "var_B = Variable(\"B\")\n",
        "\n",
        "# Creation of terminals\n",
        "ter_a = Terminal(\"a\")\n",
        "ter_b = Terminal(\"b\")\n",
        "ter_c = Terminal(\"c\")\n",
        "\n",
        "# Creation of productions\n",
        "p0 = Production(var_S, [ter_a, var_S, var_B])\n",
        "p1 = Production(var_useless, [ter_a, var_S, var_B])\n",
        "p2 = Production(var_S, [var_useless])\n",
        "p4 = Production(var_B, [ter_b])\n",
        "p5 = Production(var_useless, [])\n",
        "\n",
        "# Creation of the CFG\n",
        "cfg = CFG({var_useless, var_S}, {ter_a, ter_b}, var_S, {p0, p1, p2, p4, p5})\n",
        "\n",
        "# Check for containment\n",
        "cfg.contains([Epsilon()])\n",
        "cfg.contains([ter_a, ter_b])"
      ],
      "execution_count": null,
      "outputs": [
        {
          "output_type": "execute_result",
          "data": {
            "text/plain": [
              "True"
            ]
          },
          "metadata": {
            "tags": []
          },
          "execution_count": 2
        }
      ]
    }
  ]
}