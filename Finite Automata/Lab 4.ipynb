{
  "nbformat": 4,
  "nbformat_minor": 0,
  "metadata": {
    "colab": {
      "provenance": []
    },
    "kernelspec": {
      "name": "python3",
      "display_name": "Python 3"
    },
    "language_info": {
      "name": "python"
    }
  },
  "cells": [
    {
      "cell_type": "code",
      "metadata": {
        "colab": {
          "base_uri": "https://localhost:8080/"
        },
        "id": "Qy-uSUcAjDqA",
        "outputId": "4c14bb8e-d23b-4689-e426-2e7ccfa9f463"
      },
      "source": [
        "from pyformlang.cfg import Production, Variable, Terminal, CFG, Epsilon\n",
        "from pyformlang.cfg import CFG, Epsilon\n",
        "from pyformlang.cfg.llone_parser import LLOneParser\n",
        "from pyformlang.regular_expression import Regex\n",
        "\n",
        "variable1 = Variable(\"E\")\n",
        "variable2 = Variable(\"F\")\n",
        "\n",
        "terminal0 = Terminal(Epsilon())\n",
        "terminal1 = Terminal(\"+\")\n",
        "terminal2 = Terminal(\"*\")\n",
        "terminal3 = Terminal(\"(\")\n",
        "terminal4 = Terminal(\")\")\n",
        "terminal5 = Terminal(\"a\")\n",
        "terminal6 = Terminal(\"b\")\n",
        "terminal7 = Terminal(\"0\")\n",
        "terminal8 = Terminal(\"1\")\n",
        "\n",
        "production1 = Production(variable1,[variable1,terminal1,variable1])\n",
        "production2 = Production(variable1,[variable1,terminal2,variable1])\n",
        "production3 = Production(variable1,[terminal3,variable1,terminal4])\n",
        "production4 = Production(variable1,[variable2])\n",
        "production5 = Production(variable2,[terminal5,variable2])\n",
        "production6 = Production(variable2,[terminal6,variable2])\n",
        "production7 = Production(variable2,[terminal7,variable2])\n",
        "production8 = Production(variable2,[terminal8,variable2])\n",
        "production9 = Production(variable2,[terminal0])\n",
        "production10 = Production(variable2,[terminal5])\n",
        "production11 = Production(variable2,[terminal6])\n",
        "production12 = Production(variable2,[terminal7])\n",
        "production13 = Production(variable2,[terminal8])\n",
        "\n",
        "context_free_grammar = CFG({variable1,variable2},{terminal0,terminal1,terminal2,terminal3,terminal4,terminal5,terminal6,terminal7,terminal8},variable1,{production1,production2,production3,production4,production5,production6,production7,production8,production9,production10,production11,production12,production13})\n",
        "\n",
        "while 1:\n",
        "  string = input(\"Please Enter a String : \")\n",
        "  s = context_free_grammar.contains(string)\n",
        "  if s == 1:\n",
        "    print(\"It is accepted by the grammar\")\n",
        "  else:\n",
        "    print(\"It is not accepted by the grammar\")\n",
        "  p = input(\"Do you want to continue?(Y/N):\")\n",
        "  if p == 'Y':\n",
        "    continue\n",
        "  else:\n",
        "    break"
      ],
      "execution_count": null,
      "outputs": [
        {
          "output_type": "stream",
          "text": [
            "Please Enter a String : a+b-1*a0\n",
            "It is not accepted by the grammar\n",
            "Do you want to continue?(Y/N):Y\n",
            "Please Enter a String : a*(ab+10)\n",
            "It is accepted by the grammar\n",
            "Do you want to continue?(Y/N):N\n"
          ],
          "name": "stdout"
        }
      ]
    }
  ]
}